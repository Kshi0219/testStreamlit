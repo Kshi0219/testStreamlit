{
 "cells": [
  {
   "cell_type": "code",
   "execution_count": 14,
   "metadata": {},
   "outputs": [],
   "source": [
    "import numpy as np\n",
    "import pandas as pd\n",
    "from unidecode import unidecode as ucd\n",
    "from glob import glob"
   ]
  },
  {
   "cell_type": "code",
   "execution_count": 19,
   "metadata": {},
   "outputs": [],
   "source": [
    "filelist=glob('./data/Scaled*')\n",
    "dataList=[]"
   ]
  },
  {
   "cell_type": "code",
   "execution_count": 21,
   "metadata": {},
   "outputs": [],
   "source": [
    "for i in filelist:\n",
    "    data=pd.read_csv(i,encoding='utf-16',index_col=0)\n",
    "    name=[]\n",
    "    for idx,rows in data.iterrows():\n",
    "        name.append(ucd(rows['player_name']))\n",
    "    data['player_nm']=name\n",
    "    dataList.append(data)"
   ]
  },
  {
   "cell_type": "code",
   "execution_count": 22,
   "metadata": {},
   "outputs": [
    {
     "data": {
      "text/plain": [
       "['./data\\\\Scaled_DC.csv', './data\\\\Scaled_MID.csv', './data\\\\Scaled_ST.csv']"
      ]
     },
     "execution_count": 22,
     "metadata": {},
     "output_type": "execute_result"
    }
   ],
   "source": [
    "filelist"
   ]
  },
  {
   "cell_type": "code",
   "execution_count": 26,
   "metadata": {},
   "outputs": [],
   "source": [
    "dataList[0].to_csv('./data/Scaled_DC_final.csv')\n",
    "dataList[1].to_csv('./data/Scaled_MID_final.csv')\n",
    "dataList[2].to_csv('./data/Scaled_ST_final.csv')"
   ]
  },
  {
   "cell_type": "code",
   "execution_count": 11,
   "metadata": {},
   "outputs": [],
   "source": [
    "data=pd.read_csv('./data/UNGK_kshi.csv',encoding='utf-16',index_col=0)"
   ]
  },
  {
   "cell_type": "code",
   "execution_count": 12,
   "metadata": {},
   "outputs": [],
   "source": [
    "name=[]\n",
    "for idx,rows in data.iterrows():\n",
    "    name.append(ucd(rows['player_nm']))\n",
    "data['player_nm']=name"
   ]
  },
  {
   "cell_type": "code",
   "execution_count": 13,
   "metadata": {},
   "outputs": [],
   "source": [
    "data.to_csv('./data/UNGK_final.csv')"
   ]
  }
 ],
 "metadata": {
  "kernelspec": {
   "display_name": "streamlit_env",
   "language": "python",
   "name": "python3"
  },
  "language_info": {
   "codemirror_mode": {
    "name": "ipython",
    "version": 3
   },
   "file_extension": ".py",
   "mimetype": "text/x-python",
   "name": "python",
   "nbconvert_exporter": "python",
   "pygments_lexer": "ipython3",
   "version": "3.11.8"
  }
 },
 "nbformat": 4,
 "nbformat_minor": 2
}
